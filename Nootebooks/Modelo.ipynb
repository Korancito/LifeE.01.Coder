{
 "cells": [
  {
   "cell_type": "code",
   "execution_count": 1,
   "metadata": {},
   "outputs": [],
   "source": [
    "import pandas as pd\n",
    "import numpy as np\n",
    "import matplotlib.pyplot as plt\n",
    "import seaborn as sns\n",
    "import sklearn "
   ]
  },
  {
   "cell_type": "code",
   "execution_count": 2,
   "metadata": {},
   "outputs": [],
   "source": [
    "#Cargamos nuestro dataset\n",
    "df = pd.read_csv('C:/Users/fksob/OneDrive/CoderHouse - Data Science/LifeE.Coder.01/Source/Lifeexpectancydata.csv')\n"
   ]
  },
  {
   "cell_type": "code",
   "execution_count": 3,
   "metadata": {},
   "outputs": [
    {
     "name": "stdout",
     "output_type": "stream",
     "text": [
      "<class 'pandas.core.frame.DataFrame'>\n",
      "RangeIndex: 2938 entries, 0 to 2937\n",
      "Data columns (total 22 columns):\n",
      " #   Column                           Non-Null Count  Dtype  \n",
      "---  ------                           --------------  -----  \n",
      " 0   Country                          2938 non-null   object \n",
      " 1   Year                             2938 non-null   int64  \n",
      " 2   Status                           2938 non-null   object \n",
      " 3   Life expectancy                  2928 non-null   float64\n",
      " 4   Adult Mortality                  2928 non-null   float64\n",
      " 5   infant deaths                    2938 non-null   int64  \n",
      " 6   Alcohol                          2744 non-null   float64\n",
      " 7   percentage expenditure           2938 non-null   float64\n",
      " 8   Hepatitis B                      2385 non-null   float64\n",
      " 9   Measles                          2938 non-null   int64  \n",
      " 10   BMI                             2904 non-null   float64\n",
      " 11  under-five deaths                2938 non-null   int64  \n",
      " 12  Polio                            2919 non-null   float64\n",
      " 13  Total expenditure                2712 non-null   float64\n",
      " 14  Diphtheria                       2919 non-null   float64\n",
      " 15   HIV/AIDS                        2938 non-null   float64\n",
      " 16  GDP                              2490 non-null   float64\n",
      " 17  Population                       2286 non-null   float64\n",
      " 18   thinness  1-19 years            2904 non-null   float64\n",
      " 19   thinness 5-9 years              2904 non-null   float64\n",
      " 20  Income composition of resources  2771 non-null   float64\n",
      " 21  Schooling                        2775 non-null   float64\n",
      "dtypes: float64(16), int64(4), object(2)\n",
      "memory usage: 505.1+ KB\n"
     ]
    }
   ],
   "source": [
    "#Desplegamos info del mismo\n",
    "df.info()"
   ]
  },
  {
   "cell_type": "code",
   "execution_count": 4,
   "metadata": {},
   "outputs": [],
   "source": [
    "#Realizazamos transformaciones para optimizar el trabajo con el dataset\n",
    "rename_columns = {\n",
    "    'Country': 'País',\n",
    "    'Year': 'Año',\n",
    "    'Status': 'Estado de desarrollo',\n",
    "    'Life expectancy ': 'Esperanza de vida',\n",
    "    'Adult Mortality': 'Mortalidad adulta',\n",
    "    'infant deaths': 'Muertes infantiles',\n",
    "    'Alcohol': 'Alcohol',\n",
    "    'percentage expenditure': 'Gasto porcentual',\n",
    "    'Hepatitis B': 'Hepatitis B',\n",
    "    'Measles ': 'Sarampión',\n",
    "    ' BMI ': 'IMC',\n",
    "    'under-five deaths ': 'Muertes menores de cinco años',\n",
    "    'Polio': 'Polio',\n",
    "    'Total expenditure': 'Gasto total',\n",
    "    'Diphtheria ': 'Difteria',\n",
    "    ' HIV/AIDS': 'VIH/SIDA',\n",
    "    'GDP': 'PIBPC',\n",
    "    'Population': 'Población',\n",
    "    ' thinness  1-19 years': 'Delgadez 1-19 años',\n",
    "    ' thinness 5-9 years': 'Delgadez 5-9 años',\n",
    "    'Income composition of resources': 'Indice de desarrollo humano',\n",
    "    'Schooling': 'Escolaridad'\n",
    "}"
   ]
  },
  {
   "cell_type": "code",
   "execution_count": 5,
   "metadata": {},
   "outputs": [
    {
     "name": "stdout",
     "output_type": "stream",
     "text": [
      "<class 'pandas.core.frame.DataFrame'>\n",
      "RangeIndex: 2938 entries, 0 to 2937\n",
      "Data columns (total 22 columns):\n",
      " #   Column                         Non-Null Count  Dtype  \n",
      "---  ------                         --------------  -----  \n",
      " 0   País                           2938 non-null   object \n",
      " 1   Año                            2938 non-null   int64  \n",
      " 2   Estado de desarrollo           2938 non-null   object \n",
      " 3   Esperanza de vida              2928 non-null   float64\n",
      " 4   Mortalidad adulta              2928 non-null   float64\n",
      " 5   Muertes infantiles             2938 non-null   int64  \n",
      " 6   Alcohol                        2744 non-null   float64\n",
      " 7   Gasto porcentual               2938 non-null   float64\n",
      " 8   Hepatitis B                    2385 non-null   float64\n",
      " 9   Sarampión                      2938 non-null   int64  \n",
      " 10  IMC                            2904 non-null   float64\n",
      " 11  Muertes menores de cinco años  2938 non-null   int64  \n",
      " 12  Polio                          2919 non-null   float64\n",
      " 13  Gasto total                    2712 non-null   float64\n",
      " 14  Difteria                       2919 non-null   float64\n",
      " 15  VIH/SIDA                       2938 non-null   float64\n",
      " 16  PIBPC                          2490 non-null   float64\n",
      " 17  Población                      2286 non-null   float64\n",
      " 18  Delgadez 1-19 años             2904 non-null   float64\n",
      " 19  Delgadez 5-9 años              2904 non-null   float64\n",
      " 20  Indice de desarrollo humano    2771 non-null   float64\n",
      " 21  Escolaridad                    2775 non-null   float64\n",
      "dtypes: float64(16), int64(4), object(2)\n",
      "memory usage: 505.1+ KB\n"
     ]
    }
   ],
   "source": [
    "#Realizamos el cambio de nombre de cada una de nuestras columnas para trabajar con mayor comodidad.\n",
    "df01 = df\n",
    "dfrenamed = df01.rename(columns=rename_columns)\n",
    "dfrenamed.info()"
   ]
  },
  {
   "cell_type": "code",
   "execution_count": 6,
   "metadata": {},
   "outputs": [
    {
     "data": {
      "text/plain": [
       "País                               0\n",
       "Año                                0\n",
       "Estado de desarrollo               0\n",
       "Esperanza de vida                 10\n",
       "Mortalidad adulta                 10\n",
       "Muertes infantiles                 0\n",
       "Alcohol                          194\n",
       "Gasto porcentual                   0\n",
       "Hepatitis B                      553\n",
       "Sarampión                          0\n",
       "IMC                               34\n",
       "Muertes menores de cinco años      0\n",
       "Polio                             19\n",
       "Gasto total                      226\n",
       "Difteria                          19\n",
       "VIH/SIDA                           0\n",
       "PIBPC                            448\n",
       "Población                        652\n",
       "Delgadez 1-19 años                34\n",
       "Delgadez 5-9 años                 34\n",
       "Indice de desarrollo humano      167\n",
       "Escolaridad                      163\n",
       "dtype: int64"
      ]
     },
     "execution_count": 6,
     "metadata": {},
     "output_type": "execute_result"
    }
   ],
   "source": [
    "#Buscamos valores nulos\n",
    "dfrenamed.isnull().sum()"
   ]
  },
  {
   "cell_type": "code",
   "execution_count": 7,
   "metadata": {},
   "outputs": [
    {
     "data": {
      "text/plain": [
       "País                             0\n",
       "Año                              0\n",
       "Estado de desarrollo             0\n",
       "Esperanza de vida                0\n",
       "Mortalidad adulta                0\n",
       "Muertes infantiles               0\n",
       "Alcohol                          0\n",
       "Gasto porcentual                 0\n",
       "Hepatitis B                      0\n",
       "Sarampión                        0\n",
       "IMC                              0\n",
       "Muertes menores de cinco años    0\n",
       "Polio                            0\n",
       "Gasto total                      0\n",
       "Difteria                         0\n",
       "VIH/SIDA                         0\n",
       "PIBPC                            0\n",
       "Población                        0\n",
       "Delgadez 1-19 años               0\n",
       "Delgadez 5-9 años                0\n",
       "Indice de desarrollo humano      0\n",
       "Escolaridad                      0\n",
       "dtype: int64"
      ]
     },
     "execution_count": 7,
     "metadata": {},
     "output_type": "execute_result"
    }
   ],
   "source": [
    "#Transformamos los nulos\n",
    "from sklearn.impute import SimpleImputer\n",
    "\n",
    "imputer = SimpleImputer(missing_values=np.nan, strategy='mean', fill_value=None)\n",
    "\n",
    "dfrenamed['Esperanza de vida'] = imputer.fit_transform(dfrenamed[['Esperanza de vida']])\n",
    "dfrenamed['Mortalidad adulta'] = imputer.fit_transform(dfrenamed[['Mortalidad adulta']])\n",
    "dfrenamed['Alcohol'] = imputer.fit_transform(dfrenamed[['Alcohol']])\n",
    "dfrenamed['Hepatitis B'] = imputer.fit_transform(dfrenamed[['Hepatitis B']])\n",
    "dfrenamed['IMC'] = imputer.fit_transform(dfrenamed[['IMC']])\n",
    "dfrenamed['Polio'] = imputer.fit_transform(dfrenamed[['Polio']])\n",
    "dfrenamed['Gasto total'] = imputer.fit_transform(dfrenamed[['Gasto total']])\n",
    "dfrenamed['Difteria'] = imputer.fit_transform(dfrenamed[['Difteria']])\n",
    "dfrenamed['PIBPC'] = imputer.fit_transform(dfrenamed[['PIBPC']])\n",
    "dfrenamed['Población'] = imputer.fit_transform(dfrenamed[['Población']])\n",
    "dfrenamed['Delgadez 1-19 años'] = imputer.fit_transform(dfrenamed[['Delgadez 1-19 años']])\n",
    "dfrenamed['Delgadez 5-9 años'] = imputer.fit_transform(dfrenamed[['Delgadez 5-9 años']])\n",
    "dfrenamed['Indice de desarrollo humano'] = imputer.fit_transform(dfrenamed[['Indice de desarrollo humano']])\n",
    "dfrenamed['Escolaridad'] = imputer.fit_transform(dfrenamed[['Escolaridad']])\n",
    "\n",
    "dfrenamed.isnull().sum()"
   ]
  },
  {
   "cell_type": "markdown",
   "metadata": {},
   "source": [
    "Regresion Lineal Lasso\n",
    "\n",
    "Utilizaremos este metodo para definir entre las Variables previamente utilizadas en nuestro EDA, para definir cual se ajusta mas a nuestro modelo y trabajar con ella."
   ]
  },
  {
   "cell_type": "code",
   "execution_count": 14,
   "metadata": {},
   "outputs": [
    {
     "name": "stdout",
     "output_type": "stream",
     "text": [
      "Escolaridad    4.974655\n",
      "IMC            2.333031\n",
      "PIBPC          1.197570\n",
      "Gasto total    0.104755\n",
      "dtype: float64\n"
     ]
    }
   ],
   "source": [
    "from sklearn.linear_model import Lasso\n",
    "from sklearn.preprocessing import StandardScaler\n",
    "\n",
    "x = dfrenamed[['Escolaridad', 'IMC', 'PIBPC', 'Gasto porcentual', 'Gasto total']]\n",
    "y = dfrenamed['Esperanza de vida']\n",
    "\n",
    "# Escalamos las características\n",
    "scaler = StandardScaler()\n",
    "X_scaled = scaler.fit_transform(x)\n",
    "\n",
    "# Aplicamos Lasso  \n",
    "lasso = Lasso(alpha=0.1)\n",
    "lasso.fit(X_scaled, y)\n",
    "\n",
    "# Observamos los Coeficientes de Lasso\n",
    "coef = pd.Series(lasso.coef_, index=x.columns)\n",
    "print(coef[coef != 0])"
   ]
  }
 ],
 "metadata": {
  "kernelspec": {
   "display_name": "venv",
   "language": "python",
   "name": "python3"
  },
  "language_info": {
   "codemirror_mode": {
    "name": "ipython",
    "version": 3
   },
   "file_extension": ".py",
   "mimetype": "text/x-python",
   "name": "python",
   "nbconvert_exporter": "python",
   "pygments_lexer": "ipython3",
   "version": "3.11.9"
  }
 },
 "nbformat": 4,
 "nbformat_minor": 2
}
